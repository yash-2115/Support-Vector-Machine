{
  "nbformat": 4,
  "nbformat_minor": 2,
  "metadata": {
    "colab": {
      "name": "Manav Vagdoda (18162101032) ML Practical - 7",
      "provenance": [],
      "collapsed_sections": []
    },
    "kernelspec": {
      "name": "python3",
      "display_name": "Python 3.9.6 64-bit"
    },
    "language_info": {
      "name": "python",
      "version": "3.9.6",
      "mimetype": "text/x-python",
      "codemirror_mode": {
        "name": "ipython",
        "version": 3
      },
      "pygments_lexer": "ipython3",
      "nbconvert_exporter": "python",
      "file_extension": ".py"
    },
    "interpreter": {
      "hash": "127476f26a63e7b82ab42f7db8244ce309f5a90dbe7da8e80772de56a956c678"
    }
  },
  "cells": [
    {
      "cell_type": "markdown",
      "source": [
        "Support Vector Machine"
      ],
      "metadata": {
        "id": "1r3FzZaxKb2m"
      }
    },
    {
      "cell_type": "code",
      "execution_count": 1,
      "source": [
        "import pandas as pd\r\n",
        "import numpy as np\r\n",
        "import matplotlib.pyplot as plt\r\n",
        "from matplotlib.colors import ListedColormap\r\n",
        "from sklearn import datasets\r\n",
        "from sklearn.svm import SVC\r\n",
        "from sklearn.model_selection import train_test_split\r\n",
        "from sklearn.preprocessing import StandardScaler\r\n",
        "from sklearn import metrics"
      ],
      "outputs": [],
      "metadata": {
        "id": "n1kpsGCPKhmd"
      }
    },
    {
      "cell_type": "code",
      "execution_count": 2,
      "source": [
        "load_data = datasets.load_breast_cancer()"
      ],
      "outputs": [],
      "metadata": {
        "id": "_GKuQlIlMJL-"
      }
    },
    {
      "cell_type": "code",
      "execution_count": 3,
      "source": [
        "load_data.keys()"
      ],
      "outputs": [
        {
          "output_type": "execute_result",
          "data": {
            "text/plain": [
              "dict_keys(['data', 'target', 'frame', 'target_names', 'DESCR', 'feature_names', 'filename'])"
            ]
          },
          "metadata": {},
          "execution_count": 3
        }
      ],
      "metadata": {
        "colab": {
          "base_uri": "https://localhost:8080/"
        },
        "id": "EER8rLf2MPjB",
        "outputId": "349bef38-7c93-4b1a-8abe-deafe47fe5a0"
      }
    },
    {
      "cell_type": "code",
      "execution_count": 4,
      "source": [
        "myDataframe = pd.DataFrame(np.c_[load_data['data'], load_data['target']], columns = np.append(load_data['feature_names'], ['target']))"
      ],
      "outputs": [],
      "metadata": {
        "id": "9eVVX_wCMbHX"
      }
    },
    {
      "cell_type": "code",
      "execution_count": 5,
      "source": [
        "myDataframe.head()"
      ],
      "outputs": [
        {
          "output_type": "execute_result",
          "data": {
            "text/html": [
              "<div>\n",
              "<style scoped>\n",
              "    .dataframe tbody tr th:only-of-type {\n",
              "        vertical-align: middle;\n",
              "    }\n",
              "\n",
              "    .dataframe tbody tr th {\n",
              "        vertical-align: top;\n",
              "    }\n",
              "\n",
              "    .dataframe thead th {\n",
              "        text-align: right;\n",
              "    }\n",
              "</style>\n",
              "<table border=\"1\" class=\"dataframe\">\n",
              "  <thead>\n",
              "    <tr style=\"text-align: right;\">\n",
              "      <th></th>\n",
              "      <th>mean radius</th>\n",
              "      <th>mean texture</th>\n",
              "      <th>mean perimeter</th>\n",
              "      <th>mean area</th>\n",
              "      <th>mean smoothness</th>\n",
              "      <th>mean compactness</th>\n",
              "      <th>mean concavity</th>\n",
              "      <th>mean concave points</th>\n",
              "      <th>mean symmetry</th>\n",
              "      <th>mean fractal dimension</th>\n",
              "      <th>...</th>\n",
              "      <th>worst texture</th>\n",
              "      <th>worst perimeter</th>\n",
              "      <th>worst area</th>\n",
              "      <th>worst smoothness</th>\n",
              "      <th>worst compactness</th>\n",
              "      <th>worst concavity</th>\n",
              "      <th>worst concave points</th>\n",
              "      <th>worst symmetry</th>\n",
              "      <th>worst fractal dimension</th>\n",
              "      <th>target</th>\n",
              "    </tr>\n",
              "  </thead>\n",
              "  <tbody>\n",
              "    <tr>\n",
              "      <th>0</th>\n",
              "      <td>17.99</td>\n",
              "      <td>10.38</td>\n",
              "      <td>122.80</td>\n",
              "      <td>1001.0</td>\n",
              "      <td>0.11840</td>\n",
              "      <td>0.27760</td>\n",
              "      <td>0.3001</td>\n",
              "      <td>0.14710</td>\n",
              "      <td>0.2419</td>\n",
              "      <td>0.07871</td>\n",
              "      <td>...</td>\n",
              "      <td>17.33</td>\n",
              "      <td>184.60</td>\n",
              "      <td>2019.0</td>\n",
              "      <td>0.1622</td>\n",
              "      <td>0.6656</td>\n",
              "      <td>0.7119</td>\n",
              "      <td>0.2654</td>\n",
              "      <td>0.4601</td>\n",
              "      <td>0.11890</td>\n",
              "      <td>0.0</td>\n",
              "    </tr>\n",
              "    <tr>\n",
              "      <th>1</th>\n",
              "      <td>20.57</td>\n",
              "      <td>17.77</td>\n",
              "      <td>132.90</td>\n",
              "      <td>1326.0</td>\n",
              "      <td>0.08474</td>\n",
              "      <td>0.07864</td>\n",
              "      <td>0.0869</td>\n",
              "      <td>0.07017</td>\n",
              "      <td>0.1812</td>\n",
              "      <td>0.05667</td>\n",
              "      <td>...</td>\n",
              "      <td>23.41</td>\n",
              "      <td>158.80</td>\n",
              "      <td>1956.0</td>\n",
              "      <td>0.1238</td>\n",
              "      <td>0.1866</td>\n",
              "      <td>0.2416</td>\n",
              "      <td>0.1860</td>\n",
              "      <td>0.2750</td>\n",
              "      <td>0.08902</td>\n",
              "      <td>0.0</td>\n",
              "    </tr>\n",
              "    <tr>\n",
              "      <th>2</th>\n",
              "      <td>19.69</td>\n",
              "      <td>21.25</td>\n",
              "      <td>130.00</td>\n",
              "      <td>1203.0</td>\n",
              "      <td>0.10960</td>\n",
              "      <td>0.15990</td>\n",
              "      <td>0.1974</td>\n",
              "      <td>0.12790</td>\n",
              "      <td>0.2069</td>\n",
              "      <td>0.05999</td>\n",
              "      <td>...</td>\n",
              "      <td>25.53</td>\n",
              "      <td>152.50</td>\n",
              "      <td>1709.0</td>\n",
              "      <td>0.1444</td>\n",
              "      <td>0.4245</td>\n",
              "      <td>0.4504</td>\n",
              "      <td>0.2430</td>\n",
              "      <td>0.3613</td>\n",
              "      <td>0.08758</td>\n",
              "      <td>0.0</td>\n",
              "    </tr>\n",
              "    <tr>\n",
              "      <th>3</th>\n",
              "      <td>11.42</td>\n",
              "      <td>20.38</td>\n",
              "      <td>77.58</td>\n",
              "      <td>386.1</td>\n",
              "      <td>0.14250</td>\n",
              "      <td>0.28390</td>\n",
              "      <td>0.2414</td>\n",
              "      <td>0.10520</td>\n",
              "      <td>0.2597</td>\n",
              "      <td>0.09744</td>\n",
              "      <td>...</td>\n",
              "      <td>26.50</td>\n",
              "      <td>98.87</td>\n",
              "      <td>567.7</td>\n",
              "      <td>0.2098</td>\n",
              "      <td>0.8663</td>\n",
              "      <td>0.6869</td>\n",
              "      <td>0.2575</td>\n",
              "      <td>0.6638</td>\n",
              "      <td>0.17300</td>\n",
              "      <td>0.0</td>\n",
              "    </tr>\n",
              "    <tr>\n",
              "      <th>4</th>\n",
              "      <td>20.29</td>\n",
              "      <td>14.34</td>\n",
              "      <td>135.10</td>\n",
              "      <td>1297.0</td>\n",
              "      <td>0.10030</td>\n",
              "      <td>0.13280</td>\n",
              "      <td>0.1980</td>\n",
              "      <td>0.10430</td>\n",
              "      <td>0.1809</td>\n",
              "      <td>0.05883</td>\n",
              "      <td>...</td>\n",
              "      <td>16.67</td>\n",
              "      <td>152.20</td>\n",
              "      <td>1575.0</td>\n",
              "      <td>0.1374</td>\n",
              "      <td>0.2050</td>\n",
              "      <td>0.4000</td>\n",
              "      <td>0.1625</td>\n",
              "      <td>0.2364</td>\n",
              "      <td>0.07678</td>\n",
              "      <td>0.0</td>\n",
              "    </tr>\n",
              "  </tbody>\n",
              "</table>\n",
              "<p>5 rows × 31 columns</p>\n",
              "</div>"
            ],
            "text/plain": [
              "   mean radius  mean texture  mean perimeter  mean area  mean smoothness  \\\n",
              "0        17.99         10.38          122.80     1001.0          0.11840   \n",
              "1        20.57         17.77          132.90     1326.0          0.08474   \n",
              "2        19.69         21.25          130.00     1203.0          0.10960   \n",
              "3        11.42         20.38           77.58      386.1          0.14250   \n",
              "4        20.29         14.34          135.10     1297.0          0.10030   \n",
              "\n",
              "   mean compactness  mean concavity  mean concave points  mean symmetry  \\\n",
              "0           0.27760          0.3001              0.14710         0.2419   \n",
              "1           0.07864          0.0869              0.07017         0.1812   \n",
              "2           0.15990          0.1974              0.12790         0.2069   \n",
              "3           0.28390          0.2414              0.10520         0.2597   \n",
              "4           0.13280          0.1980              0.10430         0.1809   \n",
              "\n",
              "   mean fractal dimension  ...  worst texture  worst perimeter  worst area  \\\n",
              "0                 0.07871  ...          17.33           184.60      2019.0   \n",
              "1                 0.05667  ...          23.41           158.80      1956.0   \n",
              "2                 0.05999  ...          25.53           152.50      1709.0   \n",
              "3                 0.09744  ...          26.50            98.87       567.7   \n",
              "4                 0.05883  ...          16.67           152.20      1575.0   \n",
              "\n",
              "   worst smoothness  worst compactness  worst concavity  worst concave points  \\\n",
              "0            0.1622             0.6656           0.7119                0.2654   \n",
              "1            0.1238             0.1866           0.2416                0.1860   \n",
              "2            0.1444             0.4245           0.4504                0.2430   \n",
              "3            0.2098             0.8663           0.6869                0.2575   \n",
              "4            0.1374             0.2050           0.4000                0.1625   \n",
              "\n",
              "   worst symmetry  worst fractal dimension  target  \n",
              "0          0.4601                  0.11890     0.0  \n",
              "1          0.2750                  0.08902     0.0  \n",
              "2          0.3613                  0.08758     0.0  \n",
              "3          0.6638                  0.17300     0.0  \n",
              "4          0.2364                  0.07678     0.0  \n",
              "\n",
              "[5 rows x 31 columns]"
            ]
          },
          "metadata": {},
          "execution_count": 5
        }
      ],
      "metadata": {
        "colab": {
          "base_uri": "https://localhost:8080/",
          "height": 258
        },
        "id": "GA89wHbWMzbm",
        "outputId": "e7e95f6d-c737-4459-83f0-5ad07066c42a"
      }
    },
    {
      "cell_type": "code",
      "execution_count": 6,
      "source": [
        "myDataframe.isnull().sum()"
      ],
      "outputs": [
        {
          "output_type": "execute_result",
          "data": {
            "text/plain": [
              "mean radius                0\n",
              "mean texture               0\n",
              "mean perimeter             0\n",
              "mean area                  0\n",
              "mean smoothness            0\n",
              "mean compactness           0\n",
              "mean concavity             0\n",
              "mean concave points        0\n",
              "mean symmetry              0\n",
              "mean fractal dimension     0\n",
              "radius error               0\n",
              "texture error              0\n",
              "perimeter error            0\n",
              "area error                 0\n",
              "smoothness error           0\n",
              "compactness error          0\n",
              "concavity error            0\n",
              "concave points error       0\n",
              "symmetry error             0\n",
              "fractal dimension error    0\n",
              "worst radius               0\n",
              "worst texture              0\n",
              "worst perimeter            0\n",
              "worst area                 0\n",
              "worst smoothness           0\n",
              "worst compactness          0\n",
              "worst concavity            0\n",
              "worst concave points       0\n",
              "worst symmetry             0\n",
              "worst fractal dimension    0\n",
              "target                     0\n",
              "dtype: int64"
            ]
          },
          "metadata": {},
          "execution_count": 6
        }
      ],
      "metadata": {
        "colab": {
          "base_uri": "https://localhost:8080/"
        },
        "id": "lEvFF3uUUcG2",
        "outputId": "0d6cf18b-becd-4091-cdcb-5884983126f0"
      }
    },
    {
      "cell_type": "code",
      "execution_count": 7,
      "source": [
        "X = myDataframe[['mean texture', 'symmetry error']]"
      ],
      "outputs": [],
      "metadata": {
        "id": "8sqRK9BYM3fE"
      }
    },
    {
      "cell_type": "code",
      "execution_count": 8,
      "source": [
        "y = myDataframe['target']"
      ],
      "outputs": [],
      "metadata": {
        "id": "Q5wtx4kFNCDn"
      }
    },
    {
      "cell_type": "code",
      "execution_count": 9,
      "source": [
        "import seaborn as sns"
      ],
      "outputs": [],
      "metadata": {
        "id": "5JnaUAhaU2dt"
      }
    },
    {
      "cell_type": "code",
      "execution_count": 10,
      "source": [
        "sns.scatterplot(x = 'mean texture', y = 'symmetry error', hue = 'target', data = myDataframe)"
      ],
      "outputs": [
        {
          "output_type": "execute_result",
          "data": {
            "text/plain": [
              "<AxesSubplot:xlabel='mean texture', ylabel='symmetry error'>"
            ]
          },
          "metadata": {},
          "execution_count": 10
        },
        {
          "output_type": "display_data",
          "data": {
            "image/png": "[encoded data removed]",
            "text/plain": [
              "<Figure size 432x288 with 1 Axes>"
            ]
          },
          "metadata": {
            "needs_background": "light"
          }
        }
      ],
      "metadata": {
        "colab": {
          "base_uri": "https://localhost:8080/",
          "height": 296
        },
        "id": "OlLQ-m22VA_G",
        "outputId": "b5b865bd-da2f-4851-b28d-f8a77ddb7d52"
      }
    },
    {
      "cell_type": "code",
      "execution_count": 11,
      "source": [
        "X_train, X_test, y_train, y_test = train_test_split(X, y, test_size = 0.3, random_state = 100)"
      ],
      "outputs": [],
      "metadata": {
        "id": "dnec9qjIP8UF"
      }
    },
    {
      "cell_type": "code",
      "execution_count": 12,
      "source": [
        "print('training set contains {} samples, test set contains {} samples'.format(X_train.shape[0], X_test.shape[0]))"
      ],
      "outputs": [
        {
          "output_type": "stream",
          "name": "stdout",
          "text": [
            "training set contains 398 samples, test set contains 171 samples\n"
          ]
        }
      ],
      "metadata": {
        "colab": {
          "base_uri": "https://localhost:8080/"
        },
        "id": "khe-Y80dQM07",
        "outputId": "015391a9-1f15-4181-a436-80859a1dfdbe"
      }
    },
    {
      "cell_type": "code",
      "execution_count": 13,
      "source": [
        "np.unique(y_test)"
      ],
      "outputs": [
        {
          "output_type": "execute_result",
          "data": {
            "text/plain": [
              "array([0., 1.])"
            ]
          },
          "metadata": {},
          "execution_count": 13
        }
      ],
      "metadata": {
        "colab": {
          "base_uri": "https://localhost:8080/"
        },
        "id": "CtpKDAt7VeVg",
        "outputId": "da901498-ead7-42db-d0a1-5a81fbd08e9a"
      }
    },
    {
      "cell_type": "code",
      "execution_count": 14,
      "source": [
        "markers = ('x', 's')"
      ],
      "outputs": [],
      "metadata": {
        "id": "WVr0efCGQdLw"
      }
    },
    {
      "cell_type": "code",
      "execution_count": 15,
      "source": [
        "colors = ('red', 'green')"
      ],
      "outputs": [],
      "metadata": {
        "id": "tzGPYS7vSp6o"
      }
    },
    {
      "cell_type": "code",
      "execution_count": 16,
      "source": [
        "myColourMap = ListedColormap(colors[:len(np.unique(y_test))])"
      ],
      "outputs": [],
      "metadata": {
        "id": "NKlOh0a7SuvV"
      }
    },
    {
      "cell_type": "code",
      "execution_count": 17,
      "source": [
        "for id, cl in enumerate(np.unique(y)):\r\n",
        "  plt.scatter(x = X[y == cl]['mean texture'], y = X[y == cl]['symmetry error'], c = myColourMap(id), marker=markers[id], label = cl)"
      ],
      "outputs": [
        {
          "output_type": "stream",
          "name": "stderr",
          "text": [
            "*c* argument looks like a single numeric RGB or RGBA sequence, which should be avoided as value-mapping will have precedence in case its length matches with *x* & *y*.  Please use the *color* keyword-argument or provide a 2D array with a single row if you intend to specify the same RGB or RGBA value for all points.\n",
            "*c* argument looks like a single numeric RGB or RGBA sequence, which should be avoided as value-mapping will have precedence in case its length matches with *x* & *y*.  Please use the *color* keyword-argument or provide a 2D array with a single row if you intend to specify the same RGB or RGBA value for all points.\n"
          ]
        },
        {
          "output_type": "display_data",
          "data": {
            "image/png": "[encoded data removed]",
            "text/plain": [
              "<Figure size 432x288 with 1 Axes>"
            ]
          },
          "metadata": {
            "needs_background": "light"
          }
        }
      ],
      "metadata": {
        "colab": {
          "base_uri": "https://localhost:8080/",
          "height": 319
        },
        "id": "kGt2PzMoS4U8",
        "outputId": "d3ef964e-842e-42d4-fd5d-9aedbcf349a9"
      }
    },
    {
      "cell_type": "code",
      "execution_count": 18,
      "source": [
        "standardScaler = StandardScaler()"
      ],
      "outputs": [],
      "metadata": {
        "id": "eXpgWpb4TNOS"
      }
    },
    {
      "cell_type": "code",
      "execution_count": 19,
      "source": [
        "standardScaler.fit(X_train)"
      ],
      "outputs": [
        {
          "output_type": "execute_result",
          "data": {
            "text/plain": [
              "StandardScaler()"
            ]
          },
          "metadata": {},
          "execution_count": 19
        }
      ],
      "metadata": {
        "colab": {
          "base_uri": "https://localhost:8080/"
        },
        "id": "Al0fLAZNXJko",
        "outputId": "e282cc2c-41ba-46fd-aabc-fefe52ac060b"
      }
    },
    {
      "cell_type": "code",
      "execution_count": 20,
      "source": [
        "X_train_standard = standardScaler.transform(X_train)"
      ],
      "outputs": [],
      "metadata": {
        "id": "zg1ooVlUXMrl"
      }
    },
    {
      "cell_type": "code",
      "execution_count": 21,
      "source": [
        "X_test_standard = standardScaler.transform(X_test)"
      ],
      "outputs": [],
      "metadata": {
        "id": "lTf8Ck6RXWMz"
      }
    },
    {
      "cell_type": "code",
      "execution_count": 22,
      "source": [
        "SVM = SVC(kernel = 'linear', random_state = 0, gamma = 1, C = 10.0)\r\n",
        "SVM.fit(X_train_standard, y_train)"
      ],
      "outputs": [
        {
          "output_type": "execute_result",
          "data": {
            "text/plain": [
              "SVC(C=10.0, gamma=1, kernel='linear', random_state=0)"
            ]
          },
          "metadata": {},
          "execution_count": 22
        }
      ],
      "metadata": {
        "colab": {
          "base_uri": "https://localhost:8080/"
        },
        "id": "oX0jKVzgXihc",
        "outputId": "ffcb0b8c-0b28-45aa-a9eb-15adde8722f1"
      }
    },
    {
      "cell_type": "code",
      "execution_count": 23,
      "source": [
        "y_pred = SVM.predict(X_test_standard)"
      ],
      "outputs": [],
      "metadata": {
        "id": "04LE9tTNX010"
      }
    },
    {
      "cell_type": "code",
      "execution_count": 24,
      "source": [
        "print('accuracy: ', metrics.accuracy_score(y_test, y_pred))"
      ],
      "outputs": [
        {
          "output_type": "stream",
          "name": "stdout",
          "text": [
            "accuracy:  0.6900584795321637\n"
          ]
        }
      ],
      "metadata": {
        "colab": {
          "base_uri": "https://localhost:8080/"
        },
        "id": "_bsl2ok2YUNW",
        "outputId": "1e575def-9479-4016-a925-40b2fcefd02b"
      }
    },
    {
      "cell_type": "code",
      "execution_count": 25,
      "source": [
        "print(metrics.confusion_matrix(y_test, y_pred))"
      ],
      "outputs": [
        {
          "output_type": "stream",
          "name": "stdout",
          "text": [
            "[[29 40]\n",
            " [13 89]]\n"
          ]
        }
      ],
      "metadata": {
        "colab": {
          "base_uri": "https://localhost:8080/"
        },
        "id": "RVz8vnC1YZ4j",
        "outputId": "0f0ea5ec-0685-45b3-91f8-f45c99602f79"
      }
    },
    {
      "cell_type": "code",
      "execution_count": 26,
      "source": [
        "print(\"precision: \",metrics.precision_score(y_test, y_pred))\r\n",
        "print(\"recall: \",metrics.recall_score(y_test, y_pred))"
      ],
      "outputs": [
        {
          "output_type": "stream",
          "name": "stdout",
          "text": [
            "precision:  0.689922480620155\n",
            "recall:  0.8725490196078431\n"
          ]
        }
      ],
      "metadata": {
        "colab": {
          "base_uri": "https://localhost:8080/"
        },
        "id": "z3WosHd_NNUc",
        "outputId": "7ff2c93d-9263-4d81-8674-c57d7cc9750f"
      }
    },
    {
      "cell_type": "code",
      "execution_count": 27,
      "source": [
        "X.columns = [0, 1]"
      ],
      "outputs": [],
      "metadata": {
        "id": "3N8b-7KPYe2h"
      }
    },
    {
      "cell_type": "code",
      "execution_count": 28,
      "source": [
        "X.head()"
      ],
      "outputs": [
        {
          "output_type": "execute_result",
          "data": {
            "text/html": [
              "<div>\n",
              "<style scoped>\n",
              "    .dataframe tbody tr th:only-of-type {\n",
              "        vertical-align: middle;\n",
              "    }\n",
              "\n",
              "    .dataframe tbody tr th {\n",
              "        vertical-align: top;\n",
              "    }\n",
              "\n",
              "    .dataframe thead th {\n",
              "        text-align: right;\n",
              "    }\n",
              "</style>\n",
              "<table border=\"1\" class=\"dataframe\">\n",
              "  <thead>\n",
              "    <tr style=\"text-align: right;\">\n",
              "      <th></th>\n",
              "      <th>0</th>\n",
              "      <th>1</th>\n",
              "    </tr>\n",
              "  </thead>\n",
              "  <tbody>\n",
              "    <tr>\n",
              "      <th>0</th>\n",
              "      <td>10.38</td>\n",
              "      <td>0.03003</td>\n",
              "    </tr>\n",
              "    <tr>\n",
              "      <th>1</th>\n",
              "      <td>17.77</td>\n",
              "      <td>0.01389</td>\n",
              "    </tr>\n",
              "    <tr>\n",
              "      <th>2</th>\n",
              "      <td>21.25</td>\n",
              "      <td>0.02250</td>\n",
              "    </tr>\n",
              "    <tr>\n",
              "      <th>3</th>\n",
              "      <td>20.38</td>\n",
              "      <td>0.05963</td>\n",
              "    </tr>\n",
              "    <tr>\n",
              "      <th>4</th>\n",
              "      <td>14.34</td>\n",
              "      <td>0.01756</td>\n",
              "    </tr>\n",
              "  </tbody>\n",
              "</table>\n",
              "</div>"
            ],
            "text/plain": [
              "       0        1\n",
              "0  10.38  0.03003\n",
              "1  17.77  0.01389\n",
              "2  21.25  0.02250\n",
              "3  20.38  0.05963\n",
              "4  14.34  0.01756"
            ]
          },
          "metadata": {},
          "execution_count": 28
        }
      ],
      "metadata": {
        "colab": {
          "base_uri": "https://localhost:8080/",
          "height": 204
        },
        "id": "ITTdHR79Y2w_",
        "outputId": "57b36e56-bfb4-4f14-ddc9-6e9a9884896b"
      }
    },
    {
      "cell_type": "code",
      "execution_count": 29,
      "source": [
        "X[y == 1][0]"
      ],
      "outputs": [
        {
          "output_type": "execute_result",
          "data": {
            "text/plain": [
              "19     14.36\n",
              "20     15.71\n",
              "21     12.44\n",
              "37     18.42\n",
              "46     16.84\n",
              "       ...  \n",
              "558    22.68\n",
              "559    23.93\n",
              "560    27.15\n",
              "561    29.37\n",
              "568    24.54\n",
              "Name: 0, Length: 357, dtype: float64"
            ]
          },
          "metadata": {},
          "execution_count": 29
        }
      ],
      "metadata": {
        "colab": {
          "base_uri": "https://localhost:8080/"
        },
        "id": "7MTVFRKiY60p",
        "outputId": "1235750b-be25-424f-872d-41d78274f36b"
      }
    },
    {
      "cell_type": "code",
      "execution_count": 30,
      "source": [
        "def myVersionTuple(version):\r\n",
        "  return tuple(map(int, (version.split(\".\"))))\r\n",
        "\r\n",
        "def myDecisionPlot(X, y, classifier, test_id = None, resolution = 0.03):\r\n",
        "  markers = ('s', 'x', 'o')\r\n",
        "  colours = ('red', 'green', 'blue')\r\n",
        "  myColourMap = ListedColormap(colors[:len(np.unique(y))])\r\n",
        "  x1Min, x1Max = X[:, 0].min() - 1, X[:, 0].max() + 1\r\n",
        "  x2Min, x2Max = X[:, 0].min() - 1, X[:, 0].max() + 1\r\n",
        "  xx1, xx2 = np.meshgrid(np.arrange(x1Min, x1Max, resolution), np.arrange(x2Min, x2Max, resolution))\r\n",
        "  Z = classifier.predict(np.array([xx1, ravel(), xx2.ravel()]).T)\r\n",
        "  Z = Z.reshape(xx1.shape)\r\n",
        "  plt.contourf(xx1, xx2, Z, alpha=0.4, myColourMap = myColourMap)\r\n",
        "  plt.xlim(xx1.min(), xx1.max())\r\n",
        "  plt.ylim(xx2.min(), xx2.max())"
      ],
      "outputs": [],
      "metadata": {
        "id": "EAqOQY32Y-Bq"
      }
    },
    {
      "cell_type": "code",
      "execution_count": 31,
      "source": [
        "markers = ('s', 'x', 'o')\r\n",
        "colours = ('red', 'green', 'blue')\r\n",
        "myColourMap = ListedColormap(colors[:len(np.unique(y_test))])\r\n",
        "\r\n",
        "for id, cl in enumerate(np.unique(y)):\r\n",
        "  plt.scatter(x = X[y == cl][0], y = X[y == cl][1], c = myColourMap(id), marker = markers[id], label = cl)"
      ],
      "outputs": [
        {
          "output_type": "stream",
          "name": "stderr",
          "text": [
            "*c* argument looks like a single numeric RGB or RGBA sequence, which should be avoided as value-mapping will have precedence in case its length matches with *x* & *y*.  Please use the *color* keyword-argument or provide a 2D array with a single row if you intend to specify the same RGB or RGBA value for all points.\n",
            "*c* argument looks like a single numeric RGB or RGBA sequence, which should be avoided as value-mapping will have precedence in case its length matches with *x* & *y*.  Please use the *color* keyword-argument or provide a 2D array with a single row if you intend to specify the same RGB or RGBA value for all points.\n"
          ]
        },
        {
          "output_type": "display_data",
          "data": {
            "image/png": "[encoded data removed]",
            "text/plain": [
              "<Figure size 432x288 with 1 Axes>"
            ]
          },
          "metadata": {
            "needs_background": "light"
          }
        }
      ],
      "metadata": {
        "colab": {
          "base_uri": "https://localhost:8080/",
          "height": 319
        },
        "id": "a5H450pzZl5K",
        "outputId": "9fbc4059-0fca-40a7-f904-1c01f4311b5b"
      }
    }
  ]
}